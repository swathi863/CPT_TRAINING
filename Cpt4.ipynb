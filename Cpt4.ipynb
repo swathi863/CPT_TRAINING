{
  "nbformat": 4,
  "nbformat_minor": 0,
  "metadata": {
    "colab": {
      "provenance": [],
      "authorship_tag": "ABX9TyM9KgfLwmozeS+2ecvWMe0a",
      "include_colab_link": true
    },
    "kernelspec": {
      "name": "python3",
      "display_name": "Python 3"
    },
    "language_info": {
      "name": "python"
    }
  },
  "cells": [
    {
      "cell_type": "markdown",
      "metadata": {
        "id": "view-in-github",
        "colab_type": "text"
      },
      "source": [
        "<a href=\"https://colab.research.google.com/github/KodaliSuchitraKamala/CPT_Training/blob/main/Cpt4.ipynb\" target=\"_parent\"><img src=\"https://colab.research.google.com/assets/colab-badge.svg\" alt=\"Open In Colab\"/></a>"
      ]
    },
    {
      "cell_type": "markdown",
      "source": [
        "## OOPs(object oriented Programming) -> object(self-contained entity) = data(attributes) + actions(methods) -> that operate on data\n",
        "#### Class -> instances example: cars\n",
        "###### self represents instance of the class is used to refer to object itself within the call definition\n",
        "###### self is important for accessing instance attributes, calling instance methods\n",
        "###### self is variable to be accessed in the instance of class which gives permission to access\n",
        "###### advantage of self is can create once and access throughout program"
      ],
      "metadata": {
        "id": "lJaJYTOLBqce"
      }
    },
    {
      "cell_type": "code",
      "execution_count": null,
      "metadata": {
        "colab": {
          "base_uri": "https://localhost:8080/"
        },
        "id": "8vu9EKHgBnOx",
        "outputId": "d09ac446-ab98-4dfa-f3b5-b54a0f38aae3"
      },
      "outputs": [
        {
          "output_type": "stream",
          "name": "stdout",
          "text": [
            "German Shepard\n",
            "bow bow\n"
          ]
        }
      ],
      "source": [
        "class dog:\n",
        "  def bark(self):\n",
        "    print(\"German Shepard\")\n",
        "    print(\"bow bow\")\n",
        "animal = dog()\n",
        "animal.bark()"
      ]
    },
    {
      "cell_type": "code",
      "source": [
        "class boy:\n",
        "    def set_name(self, name):\n",
        "        self.name = name\n",
        "    def get_name(self):\n",
        "        return self.name\n",
        "s = boy()\n",
        "s.set_name(\"Kodali\")\n",
        "s.set_name(\"Suchitra\")\n",
        "print(s.get_name())\n",
        "s.set_name(\"Kamala\")\n",
        "print(s.get_name())"
      ],
      "metadata": {
        "colab": {
          "base_uri": "https://localhost:8080/"
        },
        "id": "a4sqHxpiBuLP",
        "outputId": "baa9ef9f-65ae-4e56-ffac-44d666c0ce5e"
      },
      "execution_count": null,
      "outputs": [
        {
          "output_type": "stream",
          "name": "stdout",
          "text": [
            "Suchitra\n",
            "Kamala\n"
          ]
        }
      ]
    },
    {
      "cell_type": "markdown",
      "source": [
        "#### Arithmatic Operation using a class Object Instance"
      ],
      "metadata": {
        "id": "2A9gF1x2BzxW"
      }
    },
    {
      "cell_type": "code",
      "source": [
        "class calc:\n",
        "  def add(self, a, b):\n",
        "    return a + b\n",
        "  def mul(self, a, b):\n",
        "    return a * b\n",
        "c = calc()\n",
        "print(c.add(5, 6))\n",
        "print(c.mul(5, 5))"
      ],
      "metadata": {
        "colab": {
          "base_uri": "https://localhost:8080/"
        },
        "id": "8hvuVTA7BwSV",
        "outputId": "f9694f21-b74e-4f08-d857-df3c93aa11bd"
      },
      "execution_count": null,
      "outputs": [
        {
          "output_type": "stream",
          "name": "stdout",
          "text": [
            "11\n",
            "25\n"
          ]
        }
      ]
    },
    {
      "cell_type": "code",
      "source": [
        "class operations:\n",
        "  def set_values(self, a, b):\n",
        "    self.a = a\n",
        "    self.b = b\n",
        "  def add(self):\n",
        "    return self.a + self.b\n",
        "  def sub(self):\n",
        "    return self.a - self.b\n",
        "  def mul(self):\n",
        "    return self.a * self.b\n",
        "  def div(self):\n",
        "    return self.a / self.b\n",
        "op = operations()\n",
        "op.set_values(10, 5)\n",
        "print(\"summation:\", op.add())\n",
        "print(\"difference:\", op.sub())\n",
        "print(\"multiplication:\", op.mul())\n",
        "print(\"division:\", op.div())"
      ],
      "metadata": {
        "colab": {
          "base_uri": "https://localhost:8080/"
        },
        "id": "cxFxLQxQB3g9",
        "outputId": "4d484117-a8a0-41d5-f35d-c17e6536888d"
      },
      "execution_count": null,
      "outputs": [
        {
          "output_type": "stream",
          "name": "stdout",
          "text": [
            "summation: 15\n",
            "difference: 5\n",
            "multiplication: 50\n",
            "division: 2.0\n"
          ]
        }
      ]
    },
    {
      "cell_type": "code",
      "source": [
        "'''code for caliculating the area of a square by\n",
        "creating a class square and defining the area and perimeter\n",
        "functions and return the both values to the object'''\n",
        "class square:\n",
        "  def set_values(self, side):\n",
        "    self.side = side\n",
        "  def area(self):\n",
        "    return self.side ** 2\n",
        "  def perimeter(self):\n",
        "    return 4 * self.side\n",
        "sq = square()\n",
        "sq.set_values(4)\n",
        "print(\"area:\", sq.area())\n",
        "print(\"perimeter:\", sq.perimeter())"
      ],
      "metadata": {
        "colab": {
          "base_uri": "https://localhost:8080/"
        },
        "id": "X_2ofJqADfPG",
        "outputId": "a25085d8-4c6f-4ab5-b95a-9971cb011883"
      },
      "execution_count": null,
      "outputs": [
        {
          "output_type": "stream",
          "name": "stdout",
          "text": [
            "area: 16\n",
            "perimeter: 16\n"
          ]
        }
      ]
    },
    {
      "cell_type": "code",
      "source": [
        "*"
      ],
      "metadata": {
        "id": "5IE8rrGHGWgH"
      },
      "execution_count": null,
      "outputs": []
    }
  ]
}