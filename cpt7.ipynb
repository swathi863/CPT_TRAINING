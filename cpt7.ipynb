{
  "nbformat": 4,
  "nbformat_minor": 0,
  "metadata": {
    "colab": {
      "provenance": [],
      "authorship_tag": "ABX9TyNDhJkf/U4aoH9tXaJ4Z8+y",
      "include_colab_link": true
    },
    "kernelspec": {
      "name": "python3",
      "display_name": "Python 3"
    },
    "language_info": {
      "name": "python"
    }
  },
  "cells": [
    {
      "cell_type": "markdown",
      "metadata": {
        "id": "view-in-github",
        "colab_type": "text"
      },
      "source": [
        "<a href=\"https://colab.research.google.com/github/swathi863/CPT_TRAINING/blob/main/cpt7.ipynb\" target=\"_parent\"><img src=\"https://colab.research.google.com/assets/colab-badge.svg\" alt=\"Open In Colab\"/></a>"
      ]
    },
    {
      "cell_type": "code",
      "source": [
        "print(\"DAY 7\")"
      ],
      "metadata": {
        "colab": {
          "base_uri": "https://localhost:8080/"
        },
        "id": "xu0rUlCSpVZ5",
        "outputId": "a8cb2504-5024-4078-a4cb-534e0a9a90b4"
      },
      "execution_count": 3,
      "outputs": [
        {
          "output_type": "stream",
          "name": "stdout",
          "text": [
            "DAY 7\n"
          ]
        }
      ]
    },
    {
      "cell_type": "code",
      "source": [
        "#over loading sample\n",
        "def hi(name=\"radhika\"):\n",
        "  print(\"hello\",name)\n",
        "\n",
        "hi()\n",
        "hi('swathi')"
      ],
      "metadata": {
        "colab": {
          "base_uri": "https://localhost:8080/"
        },
        "id": "SEfkYW3MwAr7",
        "outputId": "bea84b59-d0de-4f54-87fe-0448a494c7f4"
      },
      "execution_count": 5,
      "outputs": [
        {
          "output_type": "stream",
          "name": "stdout",
          "text": [
            "hello radhika\n",
            "hello swathi\n"
          ]
        }
      ]
    },
    {
      "cell_type": "code",
      "source": [
        "#multiple arguments overloading\n",
        "def abc(*args):\n",
        "  return sum(args)\n",
        "print(abc(12,34,5,7))"
      ],
      "metadata": {
        "colab": {
          "base_uri": "https://localhost:8080/"
        },
        "id": "6UU6T4PmxAIa",
        "outputId": "13a97881-9410-4b81-aa71-73255185c4cd"
      },
      "execution_count": 6,
      "outputs": [
        {
          "output_type": "stream",
          "name": "stdout",
          "text": [
            "58\n"
          ]
        }
      ]
    },
    {
      "cell_type": "code",
      "source": [
        "#simple overloading using class with consructor\n",
        "class student:\n",
        "  def __init__(self,name=None,age=None):\n",
        "    if name and age:\n",
        "      print(f'name:{name},age:{age}')\n",
        "    elif name:\n",
        "      print(f'name:{name}')\n",
        "    else:\n",
        "      print(\"no data\")\n",
        "\n",
        "student()\n",
        "student('swathi')\n",
        "student('radhika',20)"
      ],
      "metadata": {
        "colab": {
          "base_uri": "https://localhost:8080/"
        },
        "id": "9te5YhUTyISz",
        "outputId": "489703d2-a2b0-4b32-d8e0-58dca066ffed"
      },
      "execution_count": 7,
      "outputs": [
        {
          "output_type": "stream",
          "name": "stdout",
          "text": [
            "no data\n",
            "name:swathi\n",
            "name:radhika,age:20\n"
          ]
        },
        {
          "output_type": "execute_result",
          "data": {
            "text/plain": [
              "<__main__.student at 0x7c2f89235c50>"
            ]
          },
          "metadata": {},
          "execution_count": 7
        }
      ]
    },
    {
      "cell_type": "code",
      "source": [
        "'''isinstance'''\n",
        "n=99\n",
        "print(isinstance(n,int))\n",
        "print(isinstance(n,float))"
      ],
      "metadata": {
        "colab": {
          "base_uri": "https://localhost:8080/"
        },
        "id": "h_0CCtKezPhM",
        "outputId": "39c0f2fc-38ba-4116-ff77-9c1662b274a3"
      },
      "execution_count": 8,
      "outputs": [
        {
          "output_type": "stream",
          "name": "stdout",
          "text": [
            "True\n",
            "False\n"
          ]
        }
      ]
    },
    {
      "cell_type": "code",
      "source": [
        "class pet:\n",
        "  pass\n",
        "class dog(pet):\n",
        "  pass\n",
        "d=dog()\n",
        "print(isinstance(d,dog))\n",
        "print(isinstance(d,pet))"
      ],
      "metadata": {
        "colab": {
          "base_uri": "https://localhost:8080/"
        },
        "id": "ZzUZMooM0PnS",
        "outputId": "1a823895-2770-4ac6-f837-822938e1e703"
      },
      "execution_count": 9,
      "outputs": [
        {
          "output_type": "stream",
          "name": "stdout",
          "text": [
            "True\n",
            "True\n"
          ]
        }
      ]
    },
    {
      "cell_type": "code",
      "source": [
        "#overloading with operators\n",
        "class val:\n",
        "  def __init__(self,x,y):\n",
        "    self.x=x\n",
        "    self.y=y\n",
        "  def __add__(self,ol):\n",
        "    return val(self.x+ol.x,self.y+ol.y)\n",
        "  def __str__(self):\n",
        "    return f\"{self.x},{self.y}\"\n",
        "a=val(1,2)\n",
        "b=val(3,5)\n",
        "print(a+b)"
      ],
      "metadata": {
        "colab": {
          "base_uri": "https://localhost:8080/"
        },
        "id": "K892Qu3f01oL",
        "outputId": "c9909efe-df7e-4841-b3c3-adf8823ac0ea"
      },
      "execution_count": 10,
      "outputs": [
        {
          "output_type": "stream",
          "name": "stdout",
          "text": [
            "4,7\n"
          ]
        }
      ]
    },
    {
      "cell_type": "code",
      "source": [
        "'''code for adding two complex numbers,where imaginary numbers and real numbers to be evaluated seperately with __add__() method and raise\n",
        "and error exception with this value where unsupportive data type is encountered\n",
        "a=1+2i\n",
        "b=3+4i\n",
        "otput=4+6i'''\n",
        "class complex:\n",
        "  def __init__(self,real=0,img=0):\n",
        "    self.real=real\n",
        "    self.img=img\n",
        "  def __add__(self,ol):\n",
        "    if isinstance(ol,complex) and (self,complex):\n",
        "      return complex(self.real+ol.real, self.img+ol.img)\n",
        "    else:\n",
        "      raise TypeError(\"unsupported operand type\")\n",
        "  def __str__(self):\n",
        "    return f\"{self.real}+{self.img}i\"\n",
        "\n",
        "a=complex(1,2)\n",
        "b=complex(3,5)\n",
        "print(a+b)"
      ],
      "metadata": {
        "colab": {
          "base_uri": "https://localhost:8080/"
        },
        "id": "u54HeYfT2oLL",
        "outputId": "fdbf20e6-f583-469a-f473-80940ebc483e"
      },
      "execution_count": 47,
      "outputs": [
        {
          "output_type": "stream",
          "name": "stdout",
          "text": [
            "4+7i\n"
          ]
        }
      ]
    },
    {
      "cell_type": "code",
      "source": [
        "#overriding redefine the child class which is already exists\n",
        "class pet:\n",
        "  def sound(self):\n",
        "    print(\"animal sounds\")\n",
        "class dog(pet):\n",
        "  def sound(self):\n",
        "   print(\"the pet barks!!\")\n",
        "\n",
        "a=pet()\n",
        "a.sound()\n",
        "d=dog()\n",
        "d.sound()\n"
      ],
      "metadata": {
        "colab": {
          "base_uri": "https://localhost:8080/"
        },
        "id": "Mp7plsvo5jJz",
        "outputId": "ec269b3d-dea7-4cf8-a52b-d67466ca8ff2"
      },
      "execution_count": 30,
      "outputs": [
        {
          "output_type": "stream",
          "name": "stdout",
          "text": [
            "animal sounds\n",
            "the pet barks!!\n"
          ]
        }
      ]
    },
    {
      "cell_type": "code",
      "source": [
        "#calling the super class method from class\n",
        "class pet:\n",
        "  def sound(self):\n",
        "    print(\"animal sounds\")\n",
        "class dog(pet):\n",
        "  def sound(self):\n",
        "    super().sound() # calling parent method\n",
        "    print(\"the pet barks!!\")\n",
        "\n",
        "a=pet()\n",
        "a.sound()\n",
        "d=dog()\n",
        "d.sound()\n"
      ],
      "metadata": {
        "colab": {
          "base_uri": "https://localhost:8080/"
        },
        "id": "tcpPNDcK-W0D",
        "outputId": "519a9050-18c2-464d-aae2-4fb9592aea5d"
      },
      "execution_count": 38,
      "outputs": [
        {
          "output_type": "stream",
          "name": "stdout",
          "text": [
            "animal sounds\n",
            "animal sounds\n",
            "the pet barks!!\n"
          ]
        }
      ]
    },
    {
      "cell_type": "code",
      "source": [
        "#constructor overriding:\n",
        "class student:\n",
        "  def __init__(self,name):\n",
        "    self.name=name\n",
        "    print(\":student constructor\")\n",
        "class person(student):\n",
        "  def __init__(self,name,grade):\n",
        "    super().__init__(name)\n",
        "    self.grade=grade\n",
        "    print(\"person constructor\")\n",
        "s=person('swathi', 'p')"
      ],
      "metadata": {
        "colab": {
          "base_uri": "https://localhost:8080/"
        },
        "id": "8_nZXb2g_esU",
        "outputId": "81aee1ce-4786-4cc2-c341-8e2ad4be8caa"
      },
      "execution_count": 46,
      "outputs": [
        {
          "output_type": "stream",
          "name": "stdout",
          "text": [
            ":student constructor\n",
            "person constructor\n"
          ]
        }
      ]
    },
    {
      "cell_type": "code",
      "source": [
        "#method overriding by a polymorphism eval\n",
        "class rabbit:\n",
        "  def sound(self):\n",
        "    print(\"rabbit jumps\")\n",
        "class dog:\n",
        "  def sound(self):\n",
        "    print(\"dog bow\")\n",
        "class cat:\n",
        "  def sound(self):\n",
        "    print(\"cat meow\")\n",
        "pets=[dog(),cat(),rabbit()]\n",
        "for p in pets:\n",
        "  p.sound()\n"
      ],
      "metadata": {
        "colab": {
          "base_uri": "https://localhost:8080/"
        },
        "id": "UR6EZI7XBuDE",
        "outputId": "8a89d267-4edf-4eff-ac53-013a0d509566"
      },
      "execution_count": 48,
      "outputs": [
        {
          "output_type": "stream",
          "name": "stdout",
          "text": [
            "dog bow\n",
            "cat meow\n",
            "rabbit jumps\n"
          ]
        }
      ]
    },
    {
      "cell_type": "code",
      "source": [
        "'''code for overriding different parameters in parent method by caluclating the area of a circle and square from a parent\n",
        "class shape pass side 4 for square and radius 5 for circle.'''\n",
        "class shape:\n",
        "  def area(self):\n",
        "    return \"no\"\n",
        "\n",
        "class square(shape):\n",
        "  def __init__(self,side):\n",
        "    self.side=side\n",
        "  def area(self):\n",
        "    return self.side*self.side\n",
        "\n",
        "\n",
        "class circle(shape):\n",
        "  def __init__(self,radius):\n",
        "    self.radius=radius\n",
        "  def area(self):\n",
        "    return 3.14*self.radius*self.radius\n",
        "\n",
        "\n",
        "s=int(input())\n",
        "r=int(input())\n",
        "obj=square(s)\n",
        "print(obj.area())\n",
        "obj=circle(r)\n",
        "print(obj.area())"
      ],
      "metadata": {
        "colab": {
          "base_uri": "https://localhost:8080/"
        },
        "id": "oJRY2U2lKd1t",
        "outputId": "17d80065-15fe-4ed3-c658-dc05fbad8bc7"
      },
      "execution_count": 60,
      "outputs": [
        {
          "output_type": "stream",
          "name": "stdout",
          "text": [
            "4\n",
            "5\n",
            "16\n",
            "78.5\n"
          ]
        }
      ]
    },
    {
      "cell_type": "code",
      "source": [],
      "metadata": {
        "id": "kbY-D29rMxjt"
      },
      "execution_count": 59,
      "outputs": []
    }
  ]
}