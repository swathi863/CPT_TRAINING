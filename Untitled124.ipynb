{
 "cells": [
  {
   "cell_type": "code",
   "execution_count": 1,
   "id": "72571926",
   "metadata": {},
   "outputs": [
    {
     "name": "stdout",
     "output_type": "stream",
     "text": [
      "100\n",
      "This is class method\n"
     ]
    }
   ],
   "source": [
    "class fun():\n",
    "    var=100\n",
    "    def display(self):\n",
    "        print(\"This is class method\")\n",
    "obj = fun()\n",
    "print(obj.var)\n",
    "obj.display()\n"
   ]
  },
  {
   "cell_type": "code",
   "execution_count": 2,
   "id": "034d8a32",
   "metadata": {},
   "outputs": [
    {
     "name": "stdout",
     "output_type": "stream",
     "text": [
      "This is class method\n",
      "the value: 10\n"
     ]
    }
   ],
   "source": [
    "#class constructer __init__ (method)\n",
    "class fun():\n",
    "    def __init__(self , val):\n",
    "        print(\"This is class method\")\n",
    "        self.val=val\n",
    "        print(\"the value:\",val)\n",
    "obj=fun(10)\n"
   ]
  },
  {
   "cell_type": "code",
   "execution_count": 3,
   "id": "687e3768",
   "metadata": {},
   "outputs": [
    {
     "name": "stdout",
     "output_type": "stream",
     "text": [
      "object var: 10\n",
      "class var: 1\n",
      "object var: 20\n",
      "class var: 2\n"
     ]
    }
   ],
   "source": [
    "class abc():\n",
    "    cv=0\n",
    "    def __init__(self,var):\n",
    "        abc.cv+=1\n",
    "        self.var=var\n",
    "        print(\"object var:\",var)\n",
    "        print(\"class var:\",abc.cv)\n",
    "obj=abc(10)\n",
    "obj=abc(20)\n"
   ]
  },
  {
   "cell_type": "code",
   "execution_count": 4,
   "id": "550b4f6c",
   "metadata": {},
   "outputs": [
    {
     "name": "stdout",
     "output_type": "stream",
     "text": [
      "6 is even\n"
     ]
    }
   ],
   "source": [
    "class abc(): \n",
    "    def __init__(self,n):\n",
    "        if n%2==0:\n",
    "            print(n,\"is even\")\n",
    "        else:\n",
    "            print(\"odd\")\n",
    "obj=abc(6)"
   ]
  },
  {
   "cell_type": "code",
   "execution_count": 5,
   "id": "09da8db3",
   "metadata": {},
   "outputs": [
    {
     "name": "stdout",
     "output_type": "stream",
     "text": [
      "24 is even\n"
     ]
    }
   ],
   "source": [
    "class number:\n",
    "    even=0\n",
    "    def check(self,num):\n",
    "        if num%2==0:\n",
    "            self.even=1\n",
    "    def eo(self,num):\n",
    "        self.check(num)\n",
    "        if self.even ==1:\n",
    "            print(num,\"is even\")\n",
    "        else:\n",
    "            print(num,\"is odd\")\n",
    "n=number()\n",
    "n.eo(24)\n"
   ]
  },
  {
   "cell_type": "code",
   "execution_count": 6,
   "id": "59ea7516",
   "metadata": {},
   "outputs": [
    {
     "name": "stdout",
     "output_type": "stream",
     "text": [
      "even numbers: [32, 54]\n",
      "odd numbers : [21, 43, 65]\n"
     ]
    }
   ],
   "source": [
    "class number:\n",
    "    even=[]\n",
    "    odd=[]\n",
    "    def __init__(self,num):\n",
    "        self.num=num\n",
    "        if num%2==0:\n",
    "            number.even.append(num)\n",
    "        else:\n",
    "            number.odd.append(num)\n",
    "n1=number(21)\n",
    "n2=number(32)\n",
    "n3=number(43)\n",
    "n4=number(54)\n",
    "n5=number(65)\n",
    "print(\"even numbers:\",number.even)\n",
    "print(\"odd numbers :\",number.odd)\n"
   ]
  },
  {
   "cell_type": "code",
   "execution_count": 7,
   "id": "f541b879",
   "metadata": {},
   "outputs": [
    {
     "name": "stdout",
     "output_type": "stream",
     "text": [
      "even numbers: [32, 54]\n",
      "odd numbers : [21, 43, 65]\n"
     ]
    }
   ],
   "source": [
    "class number:\n",
    "    even=[]\n",
    "    odd=[]\n",
    "    def __init__(self,num):\n",
    "        self.num=num\n",
    "        if num%2==0:\n",
    "            number.even.append(num)\n",
    "        else:\n",
    "            number.odd.append(num)\n",
    "n1=number(21)\n",
    "n2=number(32)\n",
    "n3=number(43)\n",
    "n4=number(54)\n",
    "n5=number(65)\n",
    "print(\"even numbers:\",number.even)\n",
    "print(\"odd numbers :\",number.odd)\n"
   ]
  },
  {
   "cell_type": "code",
   "execution_count": 8,
   "id": "baeeefe2",
   "metadata": {},
   "outputs": [
    {
     "name": "stdout",
     "output_type": "stream",
     "text": [
      "the value stored in object is : 20\n",
      "the length of name stored in object: 7\n",
      "second value is less than first\n"
     ]
    }
   ],
   "source": [
    "class abc():\n",
    "    def __init__(self,name,var):\n",
    "        self.name=name\n",
    "        self.var=var\n",
    "    def __repr__(self):\n",
    "        return repr(self.var)\n",
    "    def __len__(self):\n",
    "        return len(self.name)\n",
    "    def __cmp__(self,obj):\n",
    "        return self.var-obj.var\n",
    "obj = abc(\"pujitha\",20)\n",
    "print(\"the value stored in object is :\",repr(obj))\n",
    "print(\"the length of name stored in object:\",len(obj))\n",
    "obj1=abc(\"jaswanth\",1)\n",
    "val=obj.__cmp__(obj1)\n",
    "if val==0:\n",
    "    print(\"both the values are equal\")\n",
    "elif val==-1:\n",
    "    print(\"first value is less then second\")\n",
    "else:\n",
    "    print(\"second value is less than first\")\n"
   ]
  },
  {
   "cell_type": "code",
   "execution_count": 9,
   "id": "29d48527",
   "metadata": {},
   "outputs": [
    {
     "name": "stdout",
     "output_type": "stream",
     "text": [
      "<__main__.numbers object at 0x000001D0CDF4DCD0>\n",
      "[1, 2, 3, 10, 5, 6, 7, 8, 9]\n"
     ]
    }
   ],
   "source": [
    "class numbers:\n",
    "    def __init__(self,mylist):\n",
    "        self.mylist=mylist\n",
    "    def __getitem__(self,index):\n",
    "        return self.mylist[index]\n",
    "    def __setitem__(self,index,val):\n",
    "        self.mylist[index]=val\n",
    "numlist=numbers([1,2,3,4,5,6,7,8,9])\n",
    "print(numlist)\n",
    "numlist[3]=10\n",
    "print(numlist.mylist)\n"
   ]
  },
  {
   "cell_type": "code",
   "execution_count": null,
   "id": "f8ec41ec",
   "metadata": {},
   "outputs": [],
   "source": []
  }
 ],
 "metadata": {
  "kernelspec": {
   "display_name": "Python 3 (ipykernel)",
   "language": "python",
   "name": "python3"
  },
  "language_info": {
   "codemirror_mode": {
    "name": "ipython",
    "version": 3
   },
   "file_extension": ".py",
   "mimetype": "text/x-python",
   "name": "python",
   "nbconvert_exporter": "python",
   "pygments_lexer": "ipython3",
   "version": "3.9.13"
  }
 },
 "nbformat": 4,
 "nbformat_minor": 5
}
