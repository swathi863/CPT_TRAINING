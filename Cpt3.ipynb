{
  "nbformat": 4,
  "nbformat_minor": 0,
  "metadata": {
    "colab": {
      "provenance": [],
      "authorship_tag": "ABX9TyP6z5lgk29mrf509z3nKmSo",
      "include_colab_link": true
    },
    "kernelspec": {
      "name": "python3",
      "display_name": "Python 3"
    },
    "language_info": {
      "name": "python"
    }
  },
  "cells": [
    {
      "cell_type": "markdown",
      "metadata": {
        "id": "view-in-github",
        "colab_type": "text"
      },
      "source": [
        "<a href=\"https://colab.research.google.com/github/KodaliSuchitraKamala/CPT_Training/blob/main/Cpt3.ipynb\" target=\"_parent\"><img src=\"https://colab.research.google.com/assets/colab-badge.svg\" alt=\"Open In Colab\"/></a>"
      ]
    },
    {
      "cell_type": "markdown",
      "source": [
        "## Fucntions\n",
        "#### Argument - Return\n",
        "#### Argument - No Return\n",
        "#### No Argument - Return\n",
        "#### No Argument - No Return"
      ],
      "metadata": {
        "id": "MRRNvzfpDoA2"
      }
    },
    {
      "cell_type": "code",
      "execution_count": null,
      "metadata": {
        "colab": {
          "base_uri": "https://localhost:8080/"
        },
        "id": "ufCXOMcEDkj4",
        "outputId": "a63067ca-917f-40ee-de3d-3d8f665510d9"
      },
      "outputs": [
        {
          "output_type": "stream",
          "name": "stdout",
          "text": [
            "Hello, Suchitra\n"
          ]
        }
      ],
      "source": [
        "def hi(name):\n",
        "  return f\"Hello, {name}\"\n",
        "print(hi(\"Suchitra\"))"
      ]
    },
    {
      "cell_type": "code",
      "source": [
        "# functions with default parameters\n",
        "def sample(x, y = 1):\n",
        "  return x * y\n",
        "print(sample(5))\n",
        "print(sample(5,3))"
      ],
      "metadata": {
        "colab": {
          "base_uri": "https://localhost:8080/"
        },
        "id": "KlsHoFwyDrCe",
        "outputId": "c3301ef8-2f9c-432a-98f2-bcca913d8412"
      },
      "execution_count": null,
      "outputs": [
        {
          "output_type": "stream",
          "name": "stdout",
          "text": [
            "5\n",
            "15\n"
          ]
        }
      ]
    },
    {
      "cell_type": "code",
      "source": [
        "# functions with keyword arguments \"*\"\" to pass n no.of arguments\n",
        "def result(*args):\n",
        "  return sum(args)\n",
        "print(result(1,2,3))\n",
        "print(result(11, 22, 33, 44))"
      ],
      "metadata": {
        "colab": {
          "base_uri": "https://localhost:8080/"
        },
        "id": "Z8B7RboeDtt9",
        "outputId": "514d4fec-4624-48d1-fbc8-41efd25ee38a"
      },
      "execution_count": null,
      "outputs": [
        {
          "output_type": "stream",
          "name": "stdout",
          "text": [
            "6\n",
            "110\n"
          ]
        }
      ]
    },
    {
      "cell_type": "code",
      "source": [
        "# functions with keywords arguments **\n",
        "def info(** kwargs):               # k - key, w - word, args - arguments\n",
        "  for key, value in kwargs.items():\n",
        "    print(f\"{key} : {value}\")\n",
        "info(name = \"Suchitra\", age = 20, city = \"Hyderbad\")"
      ],
      "metadata": {
        "colab": {
          "base_uri": "https://localhost:8080/"
        },
        "id": "dG4YwuqsDwv2",
        "outputId": "69df0aa0-f7e3-4fe5-9727-cb31e54b9260"
      },
      "execution_count": null,
      "outputs": [
        {
          "output_type": "stream",
          "name": "stdout",
          "text": [
            "name : Suchitra\n",
            "age : 20\n",
            "city : Hyderbad\n"
          ]
        }
      ]
    },
    {
      "cell_type": "code",
      "source": [
        "# Lambda Function\n",
        "sq = lambda x: x * x\n",
        "print(sq(5))\n",
        "add = lambda x, y: x + y\n",
        "print(add(3,5))\n",
        "mul = lambda x,y,z: x*y*z\n",
        "print(mul(3,6,5))"
      ],
      "metadata": {
        "colab": {
          "base_uri": "https://localhost:8080/"
        },
        "id": "yWNHfwVVDzQ2",
        "outputId": "3c09338c-9859-4e38-add1-fdd23cda20a8"
      },
      "execution_count": null,
      "outputs": [
        {
          "output_type": "stream",
          "name": "stdout",
          "text": [
            "25\n",
            "8\n",
            "90\n"
          ]
        }
      ]
    },
    {
      "cell_type": "code",
      "source": [
        "''' write a Program to return n number of multiple values\n",
        "where passing a list of 1 to 5 elements\n",
        "return the min max and avg in a single function'''\n",
        "def allnum(n):\n",
        "  return min(n), max(n), sum(n)/len(n)\n",
        "min_val, max_val, avg_val = allnum([1, 2, 3, 4, 5])\n",
        "print(f\"Min: {min_val}, Max: {max_val}, Average: {avg_val}\")"
      ],
      "metadata": {
        "colab": {
          "base_uri": "https://localhost:8080/"
        },
        "id": "iV4-0iVDD39-",
        "outputId": "588a83ef-30c2-4fb4-eafd-29a47f5ff9f3"
      },
      "execution_count": null,
      "outputs": [
        {
          "output_type": "stream",
          "name": "stdout",
          "text": [
            "Min: 1, Max: 5, Average: 3.0\n"
          ]
        }
      ]
    },
    {
      "cell_type": "markdown",
      "source": [
        "## Recursive Functions"
      ],
      "metadata": {
        "id": "gBtmLsoEEFQG"
      }
    },
    {
      "cell_type": "markdown",
      "source": [
        "#### Direct - function call itself directly : Factorial\n",
        "#### Indirect - two or more functions call each other: Geedy method\n",
        "#### Tail - ending example: Factorial\n",
        "#### Non-Tail (or) Head -starting\n",
        "#### Tree - root left and right\n",
        "#### Linear - calling itself only once\n",
        "#### Binary - calling itself twice\n",
        "#### Multiple - one function invoke multiple other functions\n",
        "#### Nested - nest within the mutiple nested\n",
        "#### Mutual - one function to other function\n",
        "#### Divide and Conquer - break function to multiple and solve\n",
        "#### Absolute (or) Static - after return it calls multiple times same function"
      ],
      "metadata": {
        "id": "7BhSzCqfEHrV"
      }
    },
    {
      "cell_type": "markdown",
      "source": [
        "#### Direct Recursive Function"
      ],
      "metadata": {
        "id": "hAv9TqbeEKyF"
      }
    },
    {
      "cell_type": "code",
      "source": [
        "# Direct Recursive Function\n",
        "def fact(n):\n",
        "  if n == 0 or n == 1:\n",
        "    return 1\n",
        "  return n * fact(n - 1)\n",
        "print(fact(5))"
      ],
      "metadata": {
        "colab": {
          "base_uri": "https://localhost:8080/"
        },
        "id": "aA-RYgvDD-9G",
        "outputId": "3b29baf7-1d63-420e-83e4-a6662008fa6f"
      },
      "execution_count": null,
      "outputs": [
        {
          "output_type": "stream",
          "name": "stdout",
          "text": [
            "120\n"
          ]
        }
      ]
    },
    {
      "cell_type": "markdown",
      "source": [
        "#### Indirect Recursive Function"
      ],
      "metadata": {
        "id": "Xn_yINcqEQ3V"
      }
    },
    {
      "cell_type": "code",
      "source": [
        "# Indirect Recursive Fuction\n",
        "def even(n):\n",
        "  if n == 0:\n",
        "    return True\n",
        "  return odd(n-1)\n",
        "def odd(n):\n",
        "  if n == 0:\n",
        "    return False\n",
        "  return even(n-1)\n",
        "print(even(4))\n",
        "print(odd(3))"
      ],
      "metadata": {
        "colab": {
          "base_uri": "https://localhost:8080/"
        },
        "id": "oeUQK46oEOXe",
        "outputId": "4bd96fe5-c316-4872-8052-d5ccc09c77dc"
      },
      "execution_count": null,
      "outputs": [
        {
          "output_type": "stream",
          "name": "stdout",
          "text": [
            "True\n",
            "True\n"
          ]
        }
      ]
    },
    {
      "cell_type": "markdown",
      "source": [
        "#### Tail Recursive Function"
      ],
      "metadata": {
        "id": "k6uO13P8EWct"
      }
    },
    {
      "cell_type": "code",
      "source": [
        "# Tail Recursive Function\n",
        "def fact(n, t = 1):\n",
        "  if n == 0 or n == 1:\n",
        "    return t\n",
        "  return fact(n - 1, n * t)\n",
        "print(fact(5))"
      ],
      "metadata": {
        "colab": {
          "base_uri": "https://localhost:8080/"
        },
        "id": "8ZPDz65iEUOd",
        "outputId": "553c76fc-27a2-4638-8430-6e6ff1c09c78"
      },
      "execution_count": null,
      "outputs": [
        {
          "output_type": "stream",
          "name": "stdout",
          "text": [
            "120\n"
          ]
        }
      ]
    },
    {
      "cell_type": "markdown",
      "source": [
        "#### Linear Recursive Function"
      ],
      "metadata": {
        "id": "rlpY5prUEcCl"
      }
    },
    {
      "cell_type": "code",
      "source": [
        "def total(n):\n",
        "  if n <= 0:\n",
        "    return 0\n",
        "  return n + total(n - 1)\n",
        "print(total(10))"
      ],
      "metadata": {
        "colab": {
          "base_uri": "https://localhost:8080/"
        },
        "id": "oVWlg5vpEZjW",
        "outputId": "70389e48-0a04-4d4f-e837-a83959e31ab9"
      },
      "execution_count": null,
      "outputs": [
        {
          "output_type": "stream",
          "name": "stdout",
          "text": [
            "55\n"
          ]
        }
      ]
    },
    {
      "cell_type": "markdown",
      "source": [
        "#### Nested Recursive Function for super Factorial\n",
        "###### (3!)! : factorial -> (3 2 1)! = 6, Super Factorial -> 3! 2! 1! = 12"
      ],
      "metadata": {
        "id": "3eklun86Eh0d"
      }
    },
    {
      "cell_type": "code",
      "source": [
        "def sfact(n):\n",
        "  if n <= 0:\n",
        "    return 1\n",
        "  return fact(n) * sfact(n - 1)\n",
        "def fact(n):\n",
        "  if n <= 1:\n",
        "    return 1\n",
        "  return n * fact(n - 1)\n",
        "print(sfact(3))"
      ],
      "metadata": {
        "colab": {
          "base_uri": "https://localhost:8080/"
        },
        "id": "2Bf806KjEfM2",
        "outputId": "280e658b-0f72-46fd-dd1f-b54ee591964b"
      },
      "execution_count": null,
      "outputs": [
        {
          "output_type": "stream",
          "name": "stdout",
          "text": [
            "12\n"
          ]
        }
      ]
    },
    {
      "cell_type": "markdown",
      "source": [
        "## Power Tower\n",
        "#### (2, 3) -> 2 ^ (2 ^ 2) = 2 ^ (4) = 16\n",
        "####  2 ^ 3 = 8\n",
        "#### (3, 2) -> 3 ^ (3) = 27"
      ],
      "metadata": {
        "id": "7HWSU2VjEpYm"
      }
    },
    {
      "cell_type": "code",
      "source": [
        "def pt(a, n):\n",
        "  if n == 1:\n",
        "    return a\n",
        "  return a ** pt(a, n -1)\n",
        "print(pt(2, 3))\n",
        "print(pt(3, 2))"
      ],
      "metadata": {
        "id": "HG2t_NnjElst"
      },
      "execution_count": null,
      "outputs": []
    }
  ]
}