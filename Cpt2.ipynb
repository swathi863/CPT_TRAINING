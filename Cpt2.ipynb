{
  "nbformat": 4,
  "nbformat_minor": 0,
  "metadata": {
    "colab": {
      "provenance": [],
      "authorship_tag": "ABX9TyNoFQfcR7bbi9GmxXZPQ0cP",
      "include_colab_link": true
    },
    "kernelspec": {
      "name": "python3",
      "display_name": "Python 3"
    },
    "language_info": {
      "name": "python"
    }
  },
  "cells": [
    {
      "cell_type": "markdown",
      "metadata": {
        "id": "view-in-github",
        "colab_type": "text"
      },
      "source": [
        "<a href=\"https://colab.research.google.com/github/KodaliSuchitraKamala/CPT_Training/blob/main/Cpt2.ipynb\" target=\"_parent\"><img src=\"https://colab.research.google.com/assets/colab-badge.svg\" alt=\"Open In Colab\"/></a>"
      ]
    },
    {
      "cell_type": "code",
      "execution_count": null,
      "metadata": {
        "colab": {
          "base_uri": "https://localhost:8080/"
        },
        "id": "zBxnXbO2Sjob",
        "outputId": "7e07be3e-7fce-4bac-a7bf-12f7ea55033d"
      },
      "outputs": [
        {
          "output_type": "stream",
          "name": "stdout",
          "text": [
            "[0, 1, 4, 9, 16]\n"
          ]
        }
      ],
      "source": [
        "sq = [x**2 for x in range(5)]\n",
        "print(sq)"
      ]
    },
    {
      "cell_type": "code",
      "source": [
        "sq = [x**3 for x in range(5)]\n",
        "print(sq)"
      ],
      "metadata": {
        "colab": {
          "base_uri": "https://localhost:8080/"
        },
        "id": "872cXK7bSsxt",
        "outputId": "5ddd2995-b4ea-48e6-9ac2-a4e2a4dedd90"
      },
      "execution_count": null,
      "outputs": [
        {
          "output_type": "stream",
          "name": "stdout",
          "text": [
            "[0, 1, 8, 27, 64]\n"
          ]
        }
      ]
    },
    {
      "cell_type": "code",
      "source": [
        "sq = [x for x in range(5)]\n",
        "print(sq)"
      ],
      "metadata": {
        "colab": {
          "base_uri": "https://localhost:8080/"
        },
        "id": "4UQqKtMDStFl",
        "outputId": "4144647e-34ef-4bfb-9829-dabe29f1da14"
      },
      "execution_count": null,
      "outputs": [
        {
          "output_type": "stream",
          "name": "stdout",
          "text": [
            "[0, 1, 2, 3, 4]\n"
          ]
        }
      ]
    },
    {
      "cell_type": "markdown",
      "source": [
        "## List"
      ],
      "metadata": {
        "id": "_cLZFaCmTBfH"
      }
    },
    {
      "cell_type": "code",
      "source": [
        "words = ['apple','banana','kiwi']\n",
        "upp = [word.upper() for word in words]\n",
        "print(upp)"
      ],
      "metadata": {
        "colab": {
          "base_uri": "https://localhost:8080/"
        },
        "id": "DpHl1-1RS7Ah",
        "outputId": "6e9511d5-2b0f-4fd5-c043-88fcb2d3de78"
      },
      "execution_count": null,
      "outputs": [
        {
          "output_type": "stream",
          "name": "stdout",
          "text": [
            "['APPLE', 'BANANA', 'KIWI']\n"
          ]
        }
      ]
    },
    {
      "cell_type": "code",
      "source": [
        "# nested list comprehension on 2d matrix to flatten\n",
        "matrix = [[1,2,3],[4,5,6],[7,8,9]]\n",
        "flat = [num for row in matrix for num in row]\n",
        "print(flat)"
      ],
      "metadata": {
        "colab": {
          "base_uri": "https://localhost:8080/"
        },
        "id": "89LujmuPS7SA",
        "outputId": "e8496bf8-c646-437b-d315-1fc48e243f6d"
      },
      "execution_count": null,
      "outputs": [
        {
          "output_type": "stream",
          "name": "stdout",
          "text": [
            "[1, 2, 3, 4, 5, 6, 7, 8, 9]\n"
          ]
        }
      ]
    },
    {
      "cell_type": "code",
      "source": [
        "matrix = [[1,2],[3,4],[5,6]]\n",
        "flat = [ num for row in matrix for num in row]\n",
        "print(flat)"
      ],
      "metadata": {
        "colab": {
          "base_uri": "https://localhost:8080/"
        },
        "id": "sQmSmsyNS7VK",
        "outputId": "7429a69f-4064-4dea-ad7d-84f9deaf2f51"
      },
      "execution_count": null,
      "outputs": [
        {
          "output_type": "stream",
          "name": "stdout",
          "text": [
            "[1, 2, 3, 4, 5, 6]\n"
          ]
        }
      ]
    },
    {
      "cell_type": "code",
      "source": [
        "# using logical condition , replace all the negative numbers with zeros\n",
        "nums = [-2 , -1,  0, 1, 2]\n",
        "nonneg = [x if x>=0 else 0 for x in nums]\n",
        "print(nonneg)\n",
        "# we use the syntaxs in list or not\n",
        "# list have a delimiters like starting and ending ([]) so syntax is not applicable in delimiters"
      ],
      "metadata": {
        "colab": {
          "base_uri": "https://localhost:8080/"
        },
        "id": "cjfYWg3ES7Y8",
        "outputId": "637d4d80-ff9c-4e09-fb18-a2bf1e0721b7"
      },
      "execution_count": null,
      "outputs": [
        {
          "output_type": "stream",
          "name": "stdout",
          "text": [
            "[0, 0, 0, 1, 2]\n"
          ]
        }
      ]
    },
    {
      "cell_type": "code",
      "source": [
        "words = ['apple','kiwi','banana']\n",
        "fc = [word[0] for word in words]\n",
        "print(fc)"
      ],
      "metadata": {
        "colab": {
          "base_uri": "https://localhost:8080/"
        },
        "id": "KIfrJbcHTQrf",
        "outputId": "af9cf7b3-2420-45f9-8fe7-7e98769fc43e"
      },
      "execution_count": null,
      "outputs": [
        {
          "output_type": "stream",
          "name": "stdout",
          "text": [
            "['a', 'k', 'b']\n"
          ]
        }
      ]
    },
    {
      "cell_type": "code",
      "source": [
        "words = ['apple','kiwi','banana']\n",
        "fc = [len(word) for word in words]\n",
        "print(fc)"
      ],
      "metadata": {
        "colab": {
          "base_uri": "https://localhost:8080/"
        },
        "id": "-c_32dDaTQ0h",
        "outputId": "01c69414-7819-4db3-f0ea-bb026f18c064"
      },
      "execution_count": null,
      "outputs": [
        {
          "output_type": "stream",
          "name": "stdout",
          "text": [
            "[5, 4, 6]\n"
          ]
        }
      ]
    },
    {
      "cell_type": "code",
      "source": [
        "# filtering none values\n",
        "items = [1,None,2,3,None,4,5]\n",
        "valid = [x for x in items if x is not None]\n",
        "print(valid)"
      ],
      "metadata": {
        "colab": {
          "base_uri": "https://localhost:8080/"
        },
        "id": "s3eP6tssTbHG",
        "outputId": "31464760-0b5a-4952-b240-fa6be1c43e49"
      },
      "execution_count": null,
      "outputs": [
        {
          "output_type": "stream",
          "name": "stdout",
          "text": [
            "[1, 2, 3, 4, 5]\n"
          ]
        }
      ]
    },
    {
      "cell_type": "code",
      "source": [
        "items = [1,None,2,3,None,4,5]\n",
        "valid = [x for x in items if x is  None]\n",
        "print(valid)"
      ],
      "metadata": {
        "colab": {
          "base_uri": "https://localhost:8080/"
        },
        "id": "ugWiHdirTbM0",
        "outputId": "695e1180-3a3a-4af9-9fb2-b17146cfe86f"
      },
      "execution_count": null,
      "outputs": [
        {
          "output_type": "stream",
          "name": "stdout",
          "text": [
            "[None, None]\n"
          ]
        }
      ]
    },
    {
      "cell_type": "code",
      "source": [
        "names = ['suchi','roopa', 'eshu']\n",
        "ages = [20,21,21]\n",
        "pair = [(name, age) for name in names for age in ages]\n",
        "print(pair)"
      ],
      "metadata": {
        "colab": {
          "base_uri": "https://localhost:8080/"
        },
        "id": "LKTRL6xxTbRG",
        "outputId": "6f34f2d2-0af3-4e31-ddc1-9da7bce10f08"
      },
      "execution_count": null,
      "outputs": [
        {
          "output_type": "stream",
          "name": "stdout",
          "text": [
            "[('suchi', 20), ('suchi', 21), ('suchi', 21), ('roopa', 20), ('roopa', 21), ('roopa', 21), ('eshu', 20), ('eshu', 21), ('eshu', 21)]\n"
          ]
        }
      ]
    },
    {
      "cell_type": "code",
      "source": [
        "names = ['suchi', 'roopa']\n",
        "ages = [20,21]\n",
        "pair = [(name,age) for name in names for age in ages]\n",
        "print(pair)"
      ],
      "metadata": {
        "colab": {
          "base_uri": "https://localhost:8080/"
        },
        "id": "BfD85HMCTbXK",
        "outputId": "de247b96-012c-461b-d932-048287184525"
      },
      "execution_count": null,
      "outputs": [
        {
          "output_type": "stream",
          "name": "stdout",
          "text": [
            "[('suchi', 20), ('suchi', 21), ('roopa', 20), ('roopa', 21)]\n"
          ]
        }
      ]
    },
    {
      "cell_type": "code",
      "source": [
        "# given a string , create a list of all vowels in the string using list comprehensions\n",
        "text = \"hello students Good MorninG\"\n",
        "vowels = [char for char in text if char.lower() in 'aeiouAEIOU']\n",
        "print(vowels)"
      ],
      "metadata": {
        "colab": {
          "base_uri": "https://localhost:8080/"
        },
        "id": "FivHzqsuTbby",
        "outputId": "6b70ea07-7f3c-4aa6-e8ab-0975e7f9a793"
      },
      "execution_count": null,
      "outputs": [
        {
          "output_type": "stream",
          "name": "stdout",
          "text": [
            "['e', 'o', 'u', 'e', 'o', 'o', 'o', 'i']\n"
          ]
        }
      ]
    },
    {
      "cell_type": "markdown",
      "source": [
        "## Patterns"
      ],
      "metadata": {
        "id": "3DOQLpH7UTQA"
      }
    },
    {
      "cell_type": "code",
      "source": [
        "#\n",
        "n = 3\n",
        "for i in range(n):\n",
        "    for j in range(n):\n",
        "        print('#',end = ' ')\n",
        "print()"
      ],
      "metadata": {
        "colab": {
          "base_uri": "https://localhost:8080/"
        },
        "id": "34J57Y25Tbj2",
        "outputId": "9ed94155-fb21-4d88-9c6d-f3fccd02566f"
      },
      "execution_count": null,
      "outputs": [
        {
          "output_type": "stream",
          "name": "stdout",
          "text": [
            "# # # # # # # # # \n"
          ]
        }
      ]
    },
    {
      "cell_type": "code",
      "source": [
        "x = int(input(\"enter any value:\"))\n",
        "for i in range(x):\n",
        "    for j in range(x):\n",
        "        print('*',end = ' ')\n",
        "    print()"
      ],
      "metadata": {
        "colab": {
          "base_uri": "https://localhost:8080/"
        },
        "id": "zzYLpf_QTbq1",
        "outputId": "45deb86c-5037-4927-be8a-0c423041c7d1"
      },
      "execution_count": null,
      "outputs": [
        {
          "output_type": "stream",
          "name": "stdout",
          "text": [
            "enter any value:5\n",
            "* * * * * \n",
            "* * * * * \n",
            "* * * * * \n",
            "* * * * * \n",
            "* * * * * \n"
          ]
        }
      ]
    },
    {
      "cell_type": "code",
      "source": [
        "x = int(input(\"enter any value:\"))\n",
        "for i in range(x):\n",
        "    for j in range(x):\n",
        "        if i==0 or j==0 or i==x-1 or j==x-1:\n",
        "            print('*',end = ' ')\n",
        "        else:\n",
        "            print(' ',end = ' ')\n",
        "    print()"
      ],
      "metadata": {
        "colab": {
          "base_uri": "https://localhost:8080/"
        },
        "id": "pGpH9JHzTbt7",
        "outputId": "23459e2e-1f86-4fab-edb6-32e622e93c41"
      },
      "execution_count": null,
      "outputs": [
        {
          "output_type": "stream",
          "name": "stdout",
          "text": [
            "enter any value:5\n",
            "* * * * * \n",
            "*       * \n",
            "*       * \n",
            "*       * \n",
            "* * * * * \n"
          ]
        }
      ]
    },
    {
      "cell_type": "code",
      "source": [
        "x = int(input(\"enter any value:\"))\n",
        "for i in range(x):\n",
        "    for j in range(x):\n",
        "        if i==0 or j==0 or i==x-1 or j==x-1 or i==j:\n",
        "            print('*',end = ' ')\n",
        "        else:\n",
        "            print(' ',end = ' ')\n",
        "    print()"
      ],
      "metadata": {
        "colab": {
          "base_uri": "https://localhost:8080/"
        },
        "id": "Hi-ZAM4_Tbw1",
        "outputId": "2618f367-4df2-4833-a5fe-55dab7e35f6f"
      },
      "execution_count": null,
      "outputs": [
        {
          "output_type": "stream",
          "name": "stdout",
          "text": [
            "enter any value:5\n",
            "* * * * * \n",
            "* *     * \n",
            "*   *   * \n",
            "*     * * \n",
            "* * * * * \n"
          ]
        }
      ]
    },
    {
      "cell_type": "code",
      "source": [
        "x = int(input(\"enter any value:\"))\n",
        "for i in range(x):\n",
        "    for j in range(x):\n",
        "        if j==0 or j==x-1 or i==j  or i+j==x-1 :\n",
        "            print('*',end = ' ')\n",
        "        else:\n",
        "            print(' ',end = ' ')\n",
        "    print()"
      ],
      "metadata": {
        "colab": {
          "base_uri": "https://localhost:8080/"
        },
        "id": "PSU49NKpTb1N",
        "outputId": "14a182b8-698b-4e76-97ac-f112443eaf71"
      },
      "execution_count": null,
      "outputs": [
        {
          "output_type": "stream",
          "name": "stdout",
          "text": [
            "enter any value:5\n",
            "*       * \n",
            "* *   * * \n",
            "*   *   * \n",
            "* *   * * \n",
            "*       * \n"
          ]
        }
      ]
    },
    {
      "cell_type": "code",
      "source": [
        "x = int(input(\"enter any value:\"))\n",
        "for i in range(x):\n",
        "    for j in range(x):\n",
        "        if i==0 or i==x-1 or i==j  or i+j==x-1 :\n",
        "            print('*',end = ' ')\n",
        "        else:\n",
        "            print(' ',end = ' ')\n",
        "    print()"
      ],
      "metadata": {
        "colab": {
          "base_uri": "https://localhost:8080/"
        },
        "id": "4nex5_oOTb54",
        "outputId": "62e19806-58bc-4936-a744-aa17755a1648"
      },
      "execution_count": null,
      "outputs": [
        {
          "output_type": "stream",
          "name": "stdout",
          "text": [
            "enter any value:5\n",
            "* * * * * \n",
            "  *   *   \n",
            "    *     \n",
            "  *   *   \n",
            "* * * * * \n"
          ]
        }
      ]
    },
    {
      "cell_type": "code",
      "source": [
        "x = int(input(\"enter any value:\"))\n",
        "for i in range(x):\n",
        "    for j in range(x):\n",
        "        if i==j  or j==0 or i==x-1 :\n",
        "            print('*',end = ' ')\n",
        "        else:\n",
        "            print(' ',end = ' ')\n",
        "    print()"
      ],
      "metadata": {
        "colab": {
          "base_uri": "https://localhost:8080/"
        },
        "id": "q1dyUkQCTcAQ",
        "outputId": "d4fed4d0-31b6-46b1-a1e8-d874fedff78a"
      },
      "execution_count": null,
      "outputs": [
        {
          "output_type": "stream",
          "name": "stdout",
          "text": [
            "enter any value:5\n",
            "*         \n",
            "* *       \n",
            "*   *     \n",
            "*     *   \n",
            "* * * * * \n"
          ]
        }
      ]
    },
    {
      "cell_type": "code",
      "source": [
        "x = int(input(\"enter any value:\"))\n",
        "for i in range(x):\n",
        "    for j in range(x):\n",
        "        if i==j or  i+j==x-1 :\n",
        "            print('*',end = ' ')\n",
        "        else:\n",
        "            print(' ',end = ' ')\n",
        "    print()"
      ],
      "metadata": {
        "colab": {
          "base_uri": "https://localhost:8080/"
        },
        "id": "YLgphd7pTcEQ",
        "outputId": "8360420c-95dc-4cb6-cbb7-b758f2bdd4db"
      },
      "execution_count": null,
      "outputs": [
        {
          "output_type": "stream",
          "name": "stdout",
          "text": [
            "enter any value:5\n",
            "*       * \n",
            "  *   *   \n",
            "    *     \n",
            "  *   *   \n",
            "*       * \n"
          ]
        }
      ]
    },
    {
      "cell_type": "code",
      "source": [
        "x = int(input(\"enter any value:\"))\n",
        "for i in range(x):\n",
        "    for j in range(x):\n",
        "        if i==0 or j==0  or i+j==x-1 :\n",
        "            print('*',end = ' ')\n",
        "        else:\n",
        "            print(' ',end = ' ')\n",
        "    print()"
      ],
      "metadata": {
        "colab": {
          "base_uri": "https://localhost:8080/"
        },
        "id": "z2MegLPiTcIr",
        "outputId": "a4f820af-ded9-45c7-c15b-3eece811137b"
      },
      "execution_count": null,
      "outputs": [
        {
          "output_type": "stream",
          "name": "stdout",
          "text": [
            "enter any value:5\n",
            "* * * * * \n",
            "*     *   \n",
            "*   *     \n",
            "* *       \n",
            "*         \n"
          ]
        }
      ]
    },
    {
      "cell_type": "code",
      "source": [
        "x = int(input(\"enter any value:\"))\n",
        "for i in range(x):\n",
        "    for j in range(x):\n",
        "        if i==0 or j==0 or i==x-1 or j==x-1 or i==j  or i+j==x-1 :\n",
        "            print('*',end = ' ')\n",
        "        else:\n",
        "            print(' ',end = ' ')\n",
        "    print()"
      ],
      "metadata": {
        "colab": {
          "base_uri": "https://localhost:8080/"
        },
        "id": "zDD3i3ChTcMj",
        "outputId": "1138bad9-3de8-46f8-f019-890828e7285e"
      },
      "execution_count": null,
      "outputs": [
        {
          "output_type": "stream",
          "name": "stdout",
          "text": [
            "enter any value:5\n",
            "* * * * * \n",
            "* *   * * \n",
            "*   *   * \n",
            "* *   * * \n",
            "* * * * * \n"
          ]
        }
      ]
    },
    {
      "cell_type": "code",
      "source": [
        "n=4\n",
        "matrix= [[0] *n for _ in range(n)]\n",
        "num=1\n",
        "top= 0\n",
        "bottom= n-1\n",
        "left= 0\n",
        "right= n-1\n",
        "while top<=bottom and left <=right:\n",
        "    for i in range(left, right+1):\n",
        "        matrix[top][i]= num\n",
        "        num+=1\n",
        "    top +=1\n",
        "    for i in range(top, bottom+1):\n",
        "        matrix[i][right]= num\n",
        "        num+=1\n",
        "    right -=1\n",
        "    for i in range( right, left-1, -1):\n",
        "        matrix[bottom][i]= num\n",
        "        num+=1\n",
        "    bottom -=1\n",
        "    for i in range(bottom, top-1, -1):\n",
        "        matrix[i][left]= num\n",
        "        num+=1\n",
        "    left +=1\n",
        "for row in matrix:\n",
        "    for val in row:\n",
        "        print(f\"{val:2}\", end=' ')\n",
        "    print()"
      ],
      "metadata": {
        "colab": {
          "base_uri": "https://localhost:8080/"
        },
        "id": "fw7g6iIuTcQF",
        "outputId": "cfe348b5-99dd-4332-da0d-4e43617a0026"
      },
      "execution_count": null,
      "outputs": [
        {
          "output_type": "stream",
          "name": "stdout",
          "text": [
            " 1  2  3  4 \n",
            "12 13 14  5 \n",
            "11 16 15  6 \n",
            "10  9  8  7 \n"
          ]
        }
      ]
    }
  ]
}