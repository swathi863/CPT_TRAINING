{
 "cells": [
  {
   "cell_type": "code",
   "execution_count": 1,
   "id": "8391ee3f",
   "metadata": {},
   "outputs": [
    {
     "name": "stdout",
     "output_type": "stream",
     "text": [
      "base class-2\n",
      "base class-1\n",
      "both the derived\n"
     ]
    }
   ],
   "source": [
    "#multiple inheritance\n",
    "class base1(object):\n",
    "    def __init__(self):\n",
    "        super(base1,self).__init__()\n",
    "        print(\"base class-1\")\n",
    "class base2(object):\n",
    "    def __init__(self):\n",
    "        super(base2,self).__init__()\n",
    "        print(\"base class-2\")\n",
    "class derived(base1,base2):\n",
    "    def __init__(self):\n",
    "        super(derived,self).__init__()\n",
    "        print(\"both the derived\")\n",
    "d=derived()  "
   ]
  },
  {
   "cell_type": "code",
   "execution_count": 2,
   "id": "b8fa376c",
   "metadata": {},
   "outputs": [
    {
     "name": "stdout",
     "output_type": "stream",
     "text": [
      "4\n",
      "5\n",
      "sum:  9\n",
      "multi:  20\n"
     ]
    }
   ],
   "source": [
    "#initialise classes addition , multipliction in a caliculator and pass the values from main program to\n",
    "#the super class where the sub classes add and mul were triggered and return the output respectively\n",
    "'''1.take derived class calc\n",
    "2.from derived class call sub classes add and mul\n",
    "3.return the values after math to the object\n",
    "4.manual valus of both numbers are considered within the object'''\n",
    "class addition:\n",
    "    def __init__(self,a,b):\n",
    "        self.a=a\n",
    "        self.b=b\n",
    "    def add(self):\n",
    "        return self.a+self.b\n",
    "class multi:\n",
    "    def __init__(self,a,b):\n",
    "        self.a=a\n",
    "        self.b=b\n",
    "    def mul(self):\n",
    "        return self.a*self.b\n",
    "class calc(addition,multi):\n",
    "    def __init__(self,a,b):\n",
    "        addition.__init__(self,a,b)\n",
    "        multi.__init__(self,a,b)\n",
    "a=int(input())\n",
    "b=int(input())\n",
    "c=calc(a,b)\n",
    "print(\"sum: \",c.add())\n",
    "print(\"multi: \",c.mul())\n",
    "\n",
    "\n",
    "     \n"
   ]
  },
  {
   "cell_type": "code",
   "execution_count": 3,
   "id": "7374d714",
   "metadata": {},
   "outputs": [
    {
     "name": "stdout",
     "output_type": "stream",
     "text": [
      "4\n",
      "sum:  16\n",
      "multi:  64\n",
      "total:  80\n"
     ]
    }
   ],
   "source": [
    "class square:\n",
    "    def __init__(self,a):\n",
    "        self.a=a\n",
    "    def sq(self):\n",
    "        return self.a**2\n",
    "class cube:\n",
    "    def __init__(self,a):\n",
    "        self.a=a\n",
    "    def cu(self):\n",
    "        return self.a**3\n",
    "class derived(square,cube):\n",
    "    def __init__(self,a):\n",
    "        square.__init__(self,a)\n",
    "        cube.__init__(self,a)\n",
    "    def total(self):\n",
    "        return self.sq()+self.cu()\n",
    "x=int(input())\n",
    "c=derived(x)\n",
    "print(\"sum: \",c.sq())\n",
    "print(\"multi: \",c.cu())\n",
    "print(\"total: \",c.total())\n"
   ]
  },
  {
   "cell_type": "code",
   "execution_count": 4,
   "id": "a8e11c17",
   "metadata": {},
   "outputs": [
    {
     "name": "stdout",
     "output_type": "stream",
     "text": [
      "name..\n",
      "experience..15yrs\n"
     ]
    }
   ],
   "source": [
    "#multi level inheritance\n",
    "class person:\n",
    "    def name(self):\n",
    "        print(\"name..\")\n",
    "class teacher(person):\n",
    "    def qualification(self):\n",
    "        print('phd')\n",
    "class hod(teacher):\n",
    "    def exp(self):\n",
    "        print('experience..15yrs')\n",
    "head=hod()\n",
    "head.name()\n",
    "head.exp()\n",
    "        "
   ]
  },
  {
   "cell_type": "code",
   "execution_count": 5,
   "id": "be1c3e34",
   "metadata": {},
   "outputs": [
    {
     "name": "stdout",
     "output_type": "stream",
     "text": [
      "double:  8\n",
      "triple:  12\n"
     ]
    }
   ],
   "source": [
    "class number:\n",
    "    def __init__(self,num):\n",
    "        self.num=num\n",
    "    def get_number(self):\n",
    "        return self.num\n",
    "class double(number):\n",
    "        def result(self):\n",
    "            return self.get_number()*2\n",
    "class triple(number):\n",
    "        def result(self):\n",
    "            return self.get_number()*3\n",
    "d= double(4)\n",
    "print(\"double: \",d.result())\n",
    "t=triple(4)\n",
    "print(\"triple: \",t.result())\n",
    "\n"
   ]
  },
  {
   "cell_type": "code",
   "execution_count": 6,
   "id": "3d5196ee",
   "metadata": {},
   "outputs": [
    {
     "name": "stdout",
     "output_type": "stream",
     "text": [
      "sweet A yellow\n",
      "sour & sweet D orange\n"
     ]
    }
   ],
   "source": [
    "#abstract class\n",
    "class fruit:\n",
    "    def taste(self):\n",
    "        raise NotImplementedError()\n",
    "    def vitamin(self):\n",
    "        raise NotImplementedError()\n",
    "    def color(self):\n",
    "        raise NotImplementedError()\n",
    "    \n",
    "    \n",
    "class mango(fruit):\n",
    "    def taste(self):\n",
    "        return \"sweet\"\n",
    "    def vitamin(self):\n",
    "        return \"A\"\n",
    "    def color(self):\n",
    "        return \"yellow\"\n",
    "class orange(fruit):\n",
    "    def taste(self):\n",
    "        return \"sour & sweet\"\n",
    "    def vitamin(self):\n",
    "        return \"D\"\n",
    "    def color(self):\n",
    "        return \"orange\"\n",
    "alphanso=mango()\n",
    "print(alphanso.taste(),alphanso.vitamin(),alphanso.color())\n",
    "org=orange()\n",
    "print(org.taste(),org.vitamin(),org.color())\n"
   ]
  },
  {
   "cell_type": "code",
   "execution_count": null,
   "id": "bfd65713",
   "metadata": {},
   "outputs": [],
   "source": []
  }
 ],
 "metadata": {
  "kernelspec": {
   "display_name": "Python 3 (ipykernel)",
   "language": "python",
   "name": "python3"
  },
  "language_info": {
   "codemirror_mode": {
    "name": "ipython",
    "version": 3
   },
   "file_extension": ".py",
   "mimetype": "text/x-python",
   "name": "python",
   "nbconvert_exporter": "python",
   "pygments_lexer": "ipython3",
   "version": "3.9.13"
  }
 },
 "nbformat": 4,
 "nbformat_minor": 5
}
