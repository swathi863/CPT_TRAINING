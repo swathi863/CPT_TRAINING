{
  "nbformat": 4,
  "nbformat_minor": 0,
  "metadata": {
    "colab": {
      "provenance": [],
      "authorship_tag": "ABX9TyMj95mDQ43EBKK3YbMfTP2D",
      "include_colab_link": true
    },
    "kernelspec": {
      "name": "python3",
      "display_name": "Python 3"
    },
    "language_info": {
      "name": "python"
    }
  },
  "cells": [
    {
      "cell_type": "markdown",
      "metadata": {
        "id": "view-in-github",
        "colab_type": "text"
      },
      "source": [
        "<a href=\"https://colab.research.google.com/github/swathi863/CPT_TRAINING/blob/main/DAY8(WIPRO).ipynb\" target=\"_parent\"><img src=\"https://colab.research.google.com/assets/colab-badge.svg\" alt=\"Open In Colab\"/></a>"
      ]
    },
    {
      "cell_type": "code",
      "execution_count": 7,
      "metadata": {
        "colab": {
          "base_uri": "https://localhost:8080/"
        },
        "id": "p_SfWga0MVDI",
        "outputId": "3910fb5c-ffba-400c-e688-901907396ca1"
      },
      "outputs": [
        {
          "output_type": "stream",
          "name": "stdout",
          "text": [
            "enter the number8\n",
            "6.283185307179586\n",
            "40320\n",
            "3.141592653589793\n",
            "2.8284271247461903\n"
          ]
        }
      ],
      "source": [
        "import math\n",
        "num=int(input(\"enter the number\"))\n",
        "square_root=math.sqrt(num)\n",
        "fact=math.factorial(num)\n",
        "pi=math.pi\n",
        "print(math.pi*2)\n",
        "print(fact)\n",
        "print(pi)\n",
        "print(square_root)\n",
        "#floor,ceil,pow"
      ]
    },
    {
      "cell_type": "code",
      "source": [
        "import random\n",
        "#random- genrate numbers,random choices\n",
        "#randint(x,y)\n",
        "#choice-->it can pic an element from the list\n",
        "#shuffle-->[1,2,3,4,2,3,2,4,2,1,5,6]it will shuffle\n",
        "#random.sample--->it will consider only one element fro above example it will consider last element as sample like 1 consider 10 element\n",
        "x=int(input(\"enter the value of x\"))\n",
        "y=int(input(\"enter the value of y\"))\n",
        "print(random.randint(x,y))\n",
        "#random.random(dynamically used)\n",
        "print(random.random())\n",
        "#for floating random  number(uniform)\n",
        "print(random.uniform(x,y))\n",
        "print(random.uniform(2.3,6.7))\n",
        "#choice\n",
        "fruits=['banana','apple','orange','mango']\n",
        "print(random.choice(fruits))\n",
        "print(random.choices(fruits))\n",
        "print(random.choices(fruits,k=3))\n",
        "numbers=[1,2,3,4,5]\n",
        "random.shuffle(numbers)\n",
        "print(numbers)\n",
        "#by using seed u can get same number multiple times but the number is not 10 it can be anything\n",
        "random.seed(10)\n",
        "print(random.randint(1,100))"
      ],
      "metadata": {
        "colab": {
          "base_uri": "https://localhost:8080/"
        },
        "id": "eHkIRehkSWIS",
        "outputId": "87110d1a-9684-4263-9bb2-2d622527b375"
      },
      "execution_count": 34,
      "outputs": [
        {
          "output_type": "stream",
          "name": "stdout",
          "text": [
            "enter the value of x2\n",
            "enter the value of y9\n",
            "2\n",
            "0.4288890546751146\n",
            "6.046639107941292\n",
            "3.2068322214138076\n",
            "mango\n",
            "['mango']\n",
            "['orange', 'banana', 'orange']\n",
            "[5, 2, 4, 1, 3]\n",
            "74\n"
          ]
        }
      ]
    },
    {
      "cell_type": "code",
      "source": [
        "#datatime-->datatime.now(),datatime.strptime()(string onj converts into time,epoch time is basic unix time that has 16 digits),datetime.strftime()(reveese of strptime)\n",
        "#timedelta(),date.today(),datetime.date()\n",
        "from datetime import datetime,date,timedelta\n",
        "#current time and date\n",
        "now=datetime.now()\n",
        "print(\"current datetime:\",now)\n",
        "#only date\n",
        "print(\"today date\",date.today())\n",
        "#formatted date time\n",
        "formatted=now.strftime(\"%d-%m-%y %H:%M:%S\")\n",
        "print(formatted)\n",
        "#parsed datetime\n",
        "date_str=\"24-12-2000 14:55:00\"\n",
        "parsed=datetime.strptime(date_str,\"%d-%m-%Y %H:%M:%S\")\n",
        "print(\"parsed data\",parsed)\n",
        "#timedelta-->can add date\n",
        "tommorow=now+timedelta(days=1)\n",
        "print(\"tommorrow:\",tommorow)\n",
        "yesterday=now-timedelta(days=1)\n",
        "print(\"yesterday:\",yesterday)\n",
        "ftime=now+timedelta(hours=3,minutes=30)\n",
        "print(\"after 3.5 hrs:\",ftime)\n",
        "\n",
        "\n",
        "now=datetime.now()\n",
        "format_12hr=now.strftime(\"%d-%m-%y %I:%M:%s %p\")\n",
        "#%I(0-12),%P(AM/P),%H(0->23.59.59.00000)\n",
        "print(format_12hr)\n",
        "\n"
      ],
      "metadata": {
        "colab": {
          "base_uri": "https://localhost:8080/"
        },
        "id": "07UkEQC4RNMa",
        "outputId": "c30b768a-9e6b-454f-ca60-52930b5b5286"
      },
      "execution_count": 48,
      "outputs": [
        {
          "output_type": "stream",
          "name": "stdout",
          "text": [
            "current datetime: 2025-06-30 06:46:36.431881\n",
            "today date 2025-06-30\n",
            "30-06-25 06:46:36\n",
            "parsed data 2000-12-24 14:55:00\n",
            "tommorrow: 2025-07-01 06:46:36.431881\n",
            "yesterday: 2025-06-29 06:46:36.431881\n",
            "after 3.5 hrs: 2025-06-30 10:16:36.431881\n",
            "30-06-25 06:46:1751265996 AM\n"
          ]
        }
      ]
    }
  ]
}